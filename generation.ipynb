{
 "cells": [
  {
   "cell_type": "code",
   "execution_count": 1,
   "metadata": {},
   "outputs": [],
   "source": [
    "import pandas as pd\n",
    "import numpy as np\n",
    "import matplotlib.pyplot as plt"
   ]
  },
  {
   "cell_type": "code",
   "execution_count": 2,
   "metadata": {},
   "outputs": [
    {
     "data": {
      "text/html": [
       "<div>\n",
       "<style scoped>\n",
       "    .dataframe tbody tr th:only-of-type {\n",
       "        vertical-align: middle;\n",
       "    }\n",
       "\n",
       "    .dataframe tbody tr th {\n",
       "        vertical-align: top;\n",
       "    }\n",
       "\n",
       "    .dataframe thead th {\n",
       "        text-align: right;\n",
       "    }\n",
       "</style>\n",
       "<table border=\"1\" class=\"dataframe\">\n",
       "  <thead>\n",
       "    <tr style=\"text-align: right;\">\n",
       "      <th></th>\n",
       "      <th>timestamp</th>\n",
       "      <th>day_of_week</th>\n",
       "      <th>hour_of_day</th>\n",
       "      <th>is_weekend</th>\n",
       "      <th>temperature</th>\n",
       "      <th>is_holiday</th>\n",
       "      <th>electricity_demand</th>\n",
       "      <th>dwpt</th>\n",
       "      <th>wspd</th>\n",
       "      <th>wdir</th>\n",
       "      <th>prcp</th>\n",
       "      <th>rhum</th>\n",
       "      <th>pres</th>\n",
       "      <th>season</th>\n",
       "      <th>month</th>\n",
       "      <th>population</th>\n",
       "    </tr>\n",
       "  </thead>\n",
       "  <tbody>\n",
       "    <tr>\n",
       "      <th>0</th>\n",
       "      <td>2000-01-01 00:00:00</td>\n",
       "      <td>5</td>\n",
       "      <td>0</td>\n",
       "      <td>1</td>\n",
       "      <td>17.483571</td>\n",
       "      <td>0</td>\n",
       "      <td>512.319382</td>\n",
       "      <td>16.036364</td>\n",
       "      <td>51.8</td>\n",
       "      <td>20.0</td>\n",
       "      <td>0.0</td>\n",
       "      <td>50.045455</td>\n",
       "      <td>1010.0</td>\n",
       "      <td>1</td>\n",
       "      <td>1</td>\n",
       "      <td>1.569190e+07</td>\n",
       "    </tr>\n",
       "    <tr>\n",
       "      <th>1</th>\n",
       "      <td>2000-01-01 01:00:00</td>\n",
       "      <td>5</td>\n",
       "      <td>1</td>\n",
       "      <td>1</td>\n",
       "      <td>14.308678</td>\n",
       "      <td>0</td>\n",
       "      <td>439.055673</td>\n",
       "      <td>16.036364</td>\n",
       "      <td>51.8</td>\n",
       "      <td>20.0</td>\n",
       "      <td>0.0</td>\n",
       "      <td>50.045455</td>\n",
       "      <td>1010.0</td>\n",
       "      <td>1</td>\n",
       "      <td>1</td>\n",
       "      <td>1.569198e+07</td>\n",
       "    </tr>\n",
       "    <tr>\n",
       "      <th>2</th>\n",
       "      <td>2000-01-01 02:00:00</td>\n",
       "      <td>5</td>\n",
       "      <td>2</td>\n",
       "      <td>1</td>\n",
       "      <td>18.238443</td>\n",
       "      <td>0</td>\n",
       "      <td>539.090652</td>\n",
       "      <td>16.036364</td>\n",
       "      <td>51.8</td>\n",
       "      <td>20.0</td>\n",
       "      <td>0.0</td>\n",
       "      <td>50.045455</td>\n",
       "      <td>1010.0</td>\n",
       "      <td>1</td>\n",
       "      <td>1</td>\n",
       "      <td>1.569206e+07</td>\n",
       "    </tr>\n",
       "    <tr>\n",
       "      <th>3</th>\n",
       "      <td>2000-01-01 03:00:00</td>\n",
       "      <td>5</td>\n",
       "      <td>3</td>\n",
       "      <td>1</td>\n",
       "      <td>22.615149</td>\n",
       "      <td>0</td>\n",
       "      <td>523.248968</td>\n",
       "      <td>16.036364</td>\n",
       "      <td>51.8</td>\n",
       "      <td>20.0</td>\n",
       "      <td>0.0</td>\n",
       "      <td>50.045455</td>\n",
       "      <td>1010.0</td>\n",
       "      <td>1</td>\n",
       "      <td>1</td>\n",
       "      <td>1.569215e+07</td>\n",
       "    </tr>\n",
       "    <tr>\n",
       "      <th>4</th>\n",
       "      <td>2000-01-01 04:00:00</td>\n",
       "      <td>5</td>\n",
       "      <td>4</td>\n",
       "      <td>1</td>\n",
       "      <td>13.829233</td>\n",
       "      <td>0</td>\n",
       "      <td>516.822822</td>\n",
       "      <td>16.036364</td>\n",
       "      <td>51.8</td>\n",
       "      <td>20.0</td>\n",
       "      <td>0.0</td>\n",
       "      <td>50.045455</td>\n",
       "      <td>1010.0</td>\n",
       "      <td>1</td>\n",
       "      <td>1</td>\n",
       "      <td>1.569223e+07</td>\n",
       "    </tr>\n",
       "  </tbody>\n",
       "</table>\n",
       "</div>"
      ],
      "text/plain": [
       "            timestamp  day_of_week  hour_of_day  is_weekend  temperature  \\\n",
       "0 2000-01-01 00:00:00            5            0           1    17.483571   \n",
       "1 2000-01-01 01:00:00            5            1           1    14.308678   \n",
       "2 2000-01-01 02:00:00            5            2           1    18.238443   \n",
       "3 2000-01-01 03:00:00            5            3           1    22.615149   \n",
       "4 2000-01-01 04:00:00            5            4           1    13.829233   \n",
       "\n",
       "   is_holiday  electricity_demand       dwpt  wspd  wdir  prcp       rhum  \\\n",
       "0           0          512.319382  16.036364  51.8  20.0   0.0  50.045455   \n",
       "1           0          439.055673  16.036364  51.8  20.0   0.0  50.045455   \n",
       "2           0          539.090652  16.036364  51.8  20.0   0.0  50.045455   \n",
       "3           0          523.248968  16.036364  51.8  20.0   0.0  50.045455   \n",
       "4           0          516.822822  16.036364  51.8  20.0   0.0  50.045455   \n",
       "\n",
       "     pres  season  month    population  \n",
       "0  1010.0       1      1  1.569190e+07  \n",
       "1  1010.0       1      1  1.569198e+07  \n",
       "2  1010.0       1      1  1.569206e+07  \n",
       "3  1010.0       1      1  1.569215e+07  \n",
       "4  1010.0       1      1  1.569223e+07  "
      ]
     },
     "execution_count": 2,
     "metadata": {},
     "output_type": "execute_result"
    }
   ],
   "source": [
    "dataset=pd.read_csv('dataset/cleaned_combined_generation_dataset.csv')\n",
    "dataset['timestamp'] = pd.to_datetime(dataset['timestamp'])\n",
    "dataset.head()"
   ]
  },
  {
   "cell_type": "code",
   "execution_count": 3,
   "metadata": {},
   "outputs": [],
   "source": [
    "# hourly_population=pd.read_csv('dataset/hourly_population.csv')"
   ]
  },
  {
   "cell_type": "code",
   "execution_count": 4,
   "metadata": {},
   "outputs": [
    {
     "data": {
      "text/plain": [
       "timestamp             datetime64[ns]\n",
       "day_of_week                    int64\n",
       "hour_of_day                    int64\n",
       "is_weekend                     int64\n",
       "temperature                  float64\n",
       "is_holiday                     int64\n",
       "electricity_demand           float64\n",
       "dwpt                         float64\n",
       "wspd                         float64\n",
       "wdir                         float64\n",
       "prcp                         float64\n",
       "rhum                         float64\n",
       "pres                         float64\n",
       "season                         int64\n",
       "month                          int64\n",
       "population                   float64\n",
       "dtype: object"
      ]
     },
     "execution_count": 4,
     "metadata": {},
     "output_type": "execute_result"
    }
   ],
   "source": [
    "dataset.dtypes"
   ]
  },
  {
   "cell_type": "code",
   "execution_count": 5,
   "metadata": {},
   "outputs": [],
   "source": [
    "dataset.drop(['timestamp'], axis=1, inplace=True)"
   ]
  },
  {
   "cell_type": "code",
   "execution_count": 6,
   "metadata": {},
   "outputs": [],
   "source": [
    "from sklearn.model_selection import train_test_split\n",
    "from sklearn.preprocessing import StandardScaler\n",
    "\n",
    "train_data, test_data = train_test_split(dataset, test_size=0.2, random_state=42)\n",
    "train_data, val_data = train_test_split(train_data, test_size=0.2, random_state=42)"
   ]
  },
  {
   "cell_type": "code",
   "execution_count": 7,
   "metadata": {},
   "outputs": [],
   "source": [
    "scaler = StandardScaler()\n",
    "train_data_scaled = scaler.fit_transform(train_data)\n",
    "val_data_scaled = scaler.transform(val_data)\n",
    "test_data_scaled = scaler.transform(test_data)"
   ]
  },
  {
   "cell_type": "code",
   "execution_count": 8,
   "metadata": {},
   "outputs": [],
   "source": [
    "# CNN Features\n",
    "cnn_features = [\"temperature\", \"dwpt\", \"wspd\", \"wdir\", \"prcp\", \"rhum\", \"pres\"]\n",
    "X_train_cnn = train_data[cnn_features]\n",
    "X_val_cnn = val_data[cnn_features]\n",
    "X_test_cnn = test_data[cnn_features]\n",
    "\n",
    "# LSTM Features\n",
    "lstm_features = [\"day_of_week\", \"hour_of_day\", \"season\", \"month\"]\n",
    "X_train_lstm = train_data[lstm_features]\n",
    "X_val_lstm = val_data[lstm_features]\n",
    "X_test_lstm = test_data[lstm_features]\n",
    "\n",
    "# ANN Features\n",
    "ann_features = [\"is_holiday\", \"is_weekend\", \"population\"]\n",
    "X_train_ann = train_data[ann_features]\n",
    "X_val_ann = val_data[ann_features]\n",
    "X_test_ann = test_data[ann_features]\n",
    "\n",
    "# Target Variable\n",
    "y_train = train_data[\"electricity_demand\"]\n",
    "y_val = val_data[\"electricity_demand\"]\n",
    "y_test = test_data[\"electricity_demand\"]"
   ]
  },
  {
   "cell_type": "code",
   "execution_count": 9,
   "metadata": {},
   "outputs": [],
   "source": [
    "import tensorflow as tf\n",
    "from tensorflow.keras.models import Sequential\n",
    "from tensorflow.keras.layers import Dense, Conv1D, LSTM, Flatten\n",
    "\n",
    "X_train_cnn = X_train_cnn.values.reshape((X_train_cnn.shape[0], X_train_cnn.shape[1], 1))\n",
    "X_val_cnn = X_val_cnn.values.reshape((X_val_cnn.shape[0], X_val_cnn.shape[1], 1))\n",
    "X_test_cnn = X_test_cnn.values.reshape((X_test_cnn.shape[0], X_test_cnn.shape[1], 1))\n"
   ]
  },
  {
   "cell_type": "code",
   "execution_count": 10,
   "metadata": {},
   "outputs": [
    {
     "name": "stdout",
     "output_type": "stream",
     "text": [
      "Epoch 1/10\n",
      "4208/4208 [==============================] - 32s 6ms/step - loss: 9087.9326 - val_loss: 7123.6890\n",
      "Epoch 2/10\n",
      "4208/4208 [==============================] - 19s 4ms/step - loss: 7152.6968 - val_loss: 7253.6221\n",
      "Epoch 3/10\n",
      "4208/4208 [==============================] - 15s 4ms/step - loss: 7135.7837 - val_loss: 7398.7661\n",
      "Epoch 4/10\n",
      "4208/4208 [==============================] - 15s 4ms/step - loss: 7124.3174 - val_loss: 7552.0249\n",
      "Epoch 5/10\n",
      "4208/4208 [==============================] - 14s 3ms/step - loss: 7123.9658 - val_loss: 7169.9204\n",
      "Epoch 6/10\n",
      "4208/4208 [==============================] - 14s 3ms/step - loss: 7116.8848 - val_loss: 7339.6875\n",
      "Epoch 7/10\n",
      "4208/4208 [==============================] - 14s 3ms/step - loss: 7125.4014 - val_loss: 7056.6846\n",
      "Epoch 8/10\n",
      "4208/4208 [==============================] - 14s 3ms/step - loss: 7106.5547 - val_loss: 7061.4458\n",
      "Epoch 9/10\n",
      "4208/4208 [==============================] - 14s 3ms/step - loss: 7110.5396 - val_loss: 7165.5493\n",
      "Epoch 10/10\n",
      "4208/4208 [==============================] - 12s 3ms/step - loss: 7106.5063 - val_loss: 7076.3643\n"
     ]
    },
    {
     "data": {
      "text/plain": [
       "<keras.callbacks.History at 0x22581ae5f90>"
      ]
     },
     "execution_count": 10,
     "metadata": {},
     "output_type": "execute_result"
    }
   ],
   "source": [
    "# Build and train the CNN model\n",
    "cnn_model = Sequential([\n",
    "    Conv1D(filters=64, kernel_size=2, activation='relu', input_shape=(X_train_cnn.shape[1], 1)),\n",
    "    Flatten(),\n",
    "    Dense(24, activation='linear')\n",
    "])\n",
    "cnn_model.compile(optimizer='adam', loss='mse')\n",
    "cnn_model.fit(X_train_cnn, y_train, validation_data=(X_val_cnn, y_val), epochs=10)\n"
   ]
  },
  {
   "cell_type": "code",
   "execution_count": 11,
   "metadata": {},
   "outputs": [
    {
     "ename": "ValueError",
     "evalue": "cannot reshape array of size 42073 into shape (24)",
     "output_type": "error",
     "traceback": [
      "\u001b[1;31m---------------------------------------------------------------------------\u001b[0m",
      "\u001b[1;31mValueError\u001b[0m                                Traceback (most recent call last)",
      "Cell \u001b[1;32mIn[11], line 3\u001b[0m\n\u001b[0;32m      1\u001b[0m \u001b[38;5;28;01mfrom\u001b[39;00m \u001b[38;5;21;01msklearn\u001b[39;00m\u001b[38;5;21;01m.\u001b[39;00m\u001b[38;5;21;01mmetrics\u001b[39;00m \u001b[38;5;28;01mimport\u001b[39;00m root_mean_squared_error, mean_absolute_error, r2_score\n\u001b[1;32m----> 3\u001b[0m y_test_reshaped \u001b[38;5;241m=\u001b[39m \u001b[43my_test\u001b[49m\u001b[38;5;241;43m.\u001b[39;49m\u001b[43mvalues\u001b[49m\u001b[38;5;241;43m.\u001b[39;49m\u001b[43mreshape\u001b[49m\u001b[43m(\u001b[49m\u001b[38;5;241;43m-\u001b[39;49m\u001b[38;5;241;43m1\u001b[39;49m\u001b[43m,\u001b[49m\u001b[43m \u001b[49m\u001b[38;5;241;43m24\u001b[39;49m\u001b[43m)\u001b[49m\n\u001b[0;32m      4\u001b[0m \u001b[38;5;66;03m# Make predictions with the CNN model\u001b[39;00m\n\u001b[0;32m      5\u001b[0m cnn_output_test \u001b[38;5;241m=\u001b[39m cnn_model\u001b[38;5;241m.\u001b[39mpredict(X_test_cnn)\n",
      "\u001b[1;31mValueError\u001b[0m: cannot reshape array of size 42073 into shape (24)"
     ]
    }
   ],
   "source": [
    "from sklearn.metrics import root_mean_squared_error, mean_absolute_error, r2_score\n",
    "\n",
    "y_test_reshaped = y_test.values.reshape(-1, 24)\n",
    "# Make predictions with the CNN model\n",
    "cnn_output_test = cnn_model.predict(X_test_cnn)\n",
    "\n",
    "# Calculate metrics for CNN model\n",
    "rmse_cnn = root_mean_squared_error(y_test, cnn_output_test)\n",
    "# rmse_cnn = np.sqrt(mse_cnn)\n",
    "mae_cnn = mean_absolute_error(y_test, cnn_output_test)\n",
    "r2_cnn = r2_score(y_test, cnn_output_test)\n",
    "\n",
    "print(f'CNN Model - MSE: {rmse_cnn}, RMSE: {rmse_cnn}, MAE: {mae_cnn}, R²: {r2_cnn}')"
   ]
  }
 ],
 "metadata": {
  "kernelspec": {
   "display_name": "py310",
   "language": "python",
   "name": "python3"
  },
  "language_info": {
   "codemirror_mode": {
    "name": "ipython",
    "version": 3
   },
   "file_extension": ".py",
   "mimetype": "text/x-python",
   "name": "python",
   "nbconvert_exporter": "python",
   "pygments_lexer": "ipython3",
   "version": "3.10.14"
  }
 },
 "nbformat": 4,
 "nbformat_minor": 2
}
