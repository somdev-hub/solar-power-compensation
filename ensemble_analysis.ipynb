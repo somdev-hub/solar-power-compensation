{
 "cells": [
  {
   "cell_type": "code",
   "execution_count": 1,
   "id": "49acc5de",
   "metadata": {},
   "outputs": [],
   "source": [
    "import pandas as pd\n",
    "import seaborn as sns\n",
    "import numpy as np\n",
    "import matplotlib.pyplot as plt"
   ]
  },
  {
   "cell_type": "code",
   "execution_count": 2,
   "id": "a141c990",
   "metadata": {},
   "outputs": [],
   "source": [
    "df=pd.read_csv('dataset/24-hours Delhi Power Consumption dataset.csv')"
   ]
  },
  {
   "cell_type": "code",
   "execution_count": 3,
   "id": "e91d51b4",
   "metadata": {},
   "outputs": [],
   "source": [
    "df['timestamp']=pd.to_datetime(df['timestamp'])"
   ]
  },
  {
   "cell_type": "code",
   "execution_count": 4,
   "id": "0785704b",
   "metadata": {},
   "outputs": [
    {
     "name": "stdout",
     "output_type": "stream",
     "text": [
      "            timestamp   load                     compensation_method\n",
      "0 2023-01-01 00:00:00  18493                        Normal Operation\n",
      "1 2023-01-01 01:00:00  17090                        Normal Operation\n",
      "2 2023-01-01 02:00:00  16052                        Normal Operation\n",
      "3 2023-01-01 03:00:00  15356                        Normal Operation\n",
      "4 2023-01-01 04:00:00  14936                        Normal Operation\n",
      "5 2023-01-01 05:00:00  14884                        Normal Operation\n",
      "6 2023-01-01 06:00:00  15314  Increased Renewable Energy Integration\n",
      "7 2023-01-01 07:00:00  16591  Increased Renewable Energy Integration\n",
      "8 2023-01-01 08:00:00  18271                        Normal Operation\n",
      "9 2023-01-01 09:00:00  19470  Increased Renewable Energy Integration\n"
     ]
    }
   ],
   "source": [
    "def assign_compensation_method(row):\n",
    "    if row['is_holiday'] == 1:\n",
    "        return 'Lower Power Supply'\n",
    "    elif row['solar_generation'] > 200:\n",
    "        return 'Increased Renewable Energy Integration'\n",
    "    elif row['hour_of_day'] >= 18 and row['hour_of_day'] <= 22:\n",
    "        return 'Peak Load Shifting'\n",
    "    elif row['temperature'] > 35:\n",
    "        return 'Increased Power Supply'\n",
    "    else:\n",
    "        return 'Normal Operation'\n",
    "\n",
    "df['compensation_method'] = df.apply(assign_compensation_method, axis=1)\n",
    "\n",
    "print(df[['timestamp', 'load', 'compensation_method']].head(10))\n"
   ]
  },
  {
   "cell_type": "code",
   "execution_count": 5,
   "id": "b77710ea",
   "metadata": {},
   "outputs": [],
   "source": [
    "from sklearn.model_selection import train_test_split\n",
    "from sklearn.preprocessing import LabelEncoder"
   ]
  },
  {
   "cell_type": "code",
   "execution_count": 6,
   "id": "a8868e9c",
   "metadata": {},
   "outputs": [],
   "source": [
    "X = df[['temperature', 'solar_generation', 'hour_of_day', 'load', 'is_holiday']]\n",
    "y=df['compensation_method']\n",
    "X_reg = df[['temperature', 'solar_generation', 'hour_of_day', 'is_holiday']]\n",
    "y_reg = df['load']\n",
    "le = LabelEncoder()\n",
    "y = le.fit_transform(y)"
   ]
  },
  {
   "cell_type": "code",
   "execution_count": 7,
   "id": "bdb5a0e8",
   "metadata": {},
   "outputs": [],
   "source": [
    "X_train, X_test, y_train, y_test=train_test_split(X, y, test_size=0.3, random_state=42)\n",
    "X_reg_train, X_reg_test, y_reg_train, y_reg_test = train_test_split(X_reg, y_reg, test_size=0.3, random_state=42)"
   ]
  },
  {
   "cell_type": "code",
   "execution_count": 8,
   "id": "96d1be2d",
   "metadata": {},
   "outputs": [],
   "source": [
    "from sklearn.preprocessing import StandardScaler\n",
    "\n",
    "# from keras.models import Sequential\n",
    "# from keras.layers import LSTM, Dense, Dropout, Conv1D, MaxPooling1D, Flatten\n",
    "# from keras.optimizers import Adam\n",
    "# from keras.layers import BatchNormalization\n",
    "# from keras.layers import Activation\n",
    "#ann\n",
    "\n",
    "# Normalize the data\n",
    "scaler_reg = StandardScaler()\n",
    "scaler_cls = StandardScaler()\n",
    "\n",
    "X_reg_train_scaled = scaler_reg.fit_transform(X_reg_train)\n",
    "X_reg_test_scaled = scaler_reg.transform(X_reg_test)\n",
    "X_train_scaled = scaler_cls.fit_transform(X_train)\n",
    "X_test_scaled = scaler_cls.transform(X_test)\n",
    "\n"
   ]
  },
  {
   "cell_type": "code",
   "execution_count": 13,
   "id": "8021aadc",
   "metadata": {},
   "outputs": [
    {
     "name": "stdout",
     "output_type": "stream",
     "text": [
      "39/39 [==============================] - 1s 1ms/step\n",
      "39/39 [==============================] - 1s 2ms/step\n",
      "39/39 [==============================] - 1s 1ms/step\n",
      "39/39 [==============================] - 1s 2ms/step\n",
      "39/39 [==============================] - 1s 1ms/step\n",
      "39/39 [==============================] - 1s 2ms/step\n",
      "39/39 [==============================] - 1s 1ms/step\n",
      "39/39 [==============================] - 1s 2ms/step\n",
      "39/39 [==============================] - 1s 1ms/step\n",
      "39/39 [==============================] - 1s 2ms/step\n",
      "Average MSE: 141783831.96064487\n"
     ]
    }
   ],
   "source": [
    "from sklearn.metrics import mean_squared_error\n",
    "from tensorflow.keras.models import Sequential\n",
    "from tensorflow.keras.layers import GRU, LSTM, Dense, Dropout\n",
    "from tensorflow.keras.layers import Bidirectional\n",
    "from xgboost import XGBRegressor\n",
    "import numpy as np\n",
    "\n",
    "# Define k-fold cross-validation\n",
    "kf = KFold(n_splits=5, shuffle=True, random_state=42)\n",
    "\n",
    "# Placeholder for results\n",
    "results = []\n",
    "\n",
    "for train_index, val_index in kf.split(X_reg_train_scaled):\n",
    "    X_train_fold, X_val_fold = X_reg_train_scaled[train_index], X_reg_train_scaled[val_index]\n",
    "    y_train_fold, y_val_fold = y_reg_train.to_numpy()[train_index], y_reg_train.to_numpy()[val_index]\n",
    "\n",
    "    # Reshape input data to 3D for GRU and BiLSTM models\n",
    "    X_train_fold_reshaped = X_train_fold.reshape((X_train_fold.shape[0], 1, X_train_fold.shape[1]))\n",
    "    X_val_fold_reshaped = X_val_fold.reshape((X_val_fold.shape[0], 1, X_val_fold.shape[1]))\n",
    "\n",
    "    # GRU Model\n",
    "    gru_model = Sequential([\n",
    "        GRU(64, return_sequences=True, input_shape=(X_train_fold_reshaped.shape[1], X_train_fold_reshaped.shape[2])),\n",
    "        Dropout(0.2),\n",
    "        GRU(32, return_sequences=False),\n",
    "        Dropout(0.2),\n",
    "        Dense(1, activation='linear')  # Linear activation for regression\n",
    "    ])\n",
    "    gru_model.compile(optimizer='adam', loss='mean_squared_error', metrics=['mean_squared_error'])\n",
    "    gru_model.fit(X_train_fold_reshaped, y_train_fold, epochs=100, batch_size=32, verbose=0)\n",
    "    gru_preds = gru_model.predict(X_val_fold_reshaped)\n",
    "\n",
    "    # BiLSTM Model\n",
    "    bilstm_model = Sequential([\n",
    "        Bidirectional(LSTM(64, return_sequences=True), input_shape=(X_train_fold_reshaped.shape[1], X_train_fold_reshaped.shape[2])),\n",
    "        Dropout(0.2),\n",
    "        Bidirectional(LSTM(32, return_sequences=False)),\n",
    "        Dropout(0.2),\n",
    "        Dense(1, activation='linear')  # Linear activation for regression\n",
    "    ])\n",
    "    bilstm_model.compile(optimizer='adam', loss='mean_squared_error', metrics=['mean_squared_error'])\n",
    "    bilstm_model.fit(X_train_fold_reshaped, y_train_fold, epochs=100, batch_size=32, verbose=0)\n",
    "    bilstm_preds = bilstm_model.predict(X_val_fold_reshaped)\n",
    "\n",
    "    # XGBoost Model\n",
    "    xgb_model = XGBRegressor()\n",
    "    xgb_model.fit(X_train_fold, y_train_fold)\n",
    "    xgb_preds = xgb_model.predict(X_val_fold)\n",
    "\n",
    "    # Combine predictions (e.g., weighted average)\n",
    "    final_preds = (gru_preds.flatten() + bilstm_preds.flatten() + xgb_preds) / 3\n",
    "\n",
    "    # Evaluate\n",
    "    mse = mean_squared_error(y_val_fold, final_preds)\n",
    "    results.append(mse)\n",
    "\n",
    "print(\"Average MSE:\", np.mean(results))"
   ]
  },
  {
   "cell_type": "code",
   "execution_count": 15,
   "id": "d75784f6",
   "metadata": {},
   "outputs": [
    {
     "name": "stdout",
     "output_type": "stream",
     "text": [
      "82/82 [==============================] - 0s 1ms/step\n",
      "82/82 [==============================] - 0s 2ms/step\n",
      "Ensemble Model Metrics:\n",
      "MSE: 144617217.44311732\n",
      "MAE: 11672.322280709204\n",
      "R2 Score: -11.002860955254743\n",
      "RMSE: 12025.689894684518\n",
      "MAPE: 63.87721671893654\n"
     ]
    }
   ],
   "source": [
    "from sklearn.metrics import mean_absolute_error, r2_score\n",
    "\n",
    "# Generate predictions for the test set\n",
    "X_reg_test_reshaped = X_reg_test_scaled.reshape((X_reg_test_scaled.shape[0], 1, X_reg_test_scaled.shape[1]))\n",
    "\n",
    "gru_test_preds = gru_model.predict(X_reg_test_reshaped)\n",
    "bilstm_test_preds = bilstm_model.predict(X_reg_test_reshaped)\n",
    "xgb_test_preds = xgb_model.predict(X_reg_test_scaled)\n",
    "\n",
    "# Combine predictions (e.g., weighted average)\n",
    "final_test_preds = (gru_test_preds.flatten() + bilstm_test_preds.flatten() + xgb_test_preds) / 3\n",
    "\n",
    "# Calculate metrics for the ensemble model\n",
    "ensemble_mse = mean_squared_error(y_reg_test, final_test_preds)\n",
    "ensemble_mae = mean_absolute_error(y_reg_test, final_test_preds)\n",
    "ensemble_r2 = r2_score(y_reg_test, final_test_preds)\n",
    "ensemble_rmse = np.sqrt(ensemble_mse)\n",
    "ensemble_mape = np.mean(np.abs((y_reg_test - final_test_preds) / y_reg_test)) * 100\n",
    "\n",
    "print(\"Ensemble Model Metrics:\")\n",
    "print(f\"MSE: {ensemble_mse}\")\n",
    "print(f\"MAE: {ensemble_mae}\")\n",
    "print(f\"R2 Score: {ensemble_r2}\")\n",
    "print(f\"RMSE: {ensemble_rmse}\")\n",
    "print(f\"MAPE: {ensemble_mape}\")\n"
   ]
  }
 ],
 "metadata": {
  "kernelspec": {
   "display_name": "py310",
   "language": "python",
   "name": "python3"
  },
  "language_info": {
   "codemirror_mode": {
    "name": "ipython",
    "version": 3
   },
   "file_extension": ".py",
   "mimetype": "text/x-python",
   "name": "python",
   "nbconvert_exporter": "python",
   "pygments_lexer": "ipython3",
   "version": "3.10.14"
  }
 },
 "nbformat": 4,
 "nbformat_minor": 5
}
