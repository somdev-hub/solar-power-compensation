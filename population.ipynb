{
 "cells": [
  {
   "cell_type": "code",
   "execution_count": 1,
   "metadata": {},
   "outputs": [],
   "source": [
    "import pandas as pd\n",
    "import numpy as np\n",
    "import matplotlib.pyplot as plt"
   ]
  },
  {
   "cell_type": "code",
   "execution_count": 3,
   "metadata": {},
   "outputs": [
    {
     "data": {
      "text/html": [
       "<div>\n",
       "<style scoped>\n",
       "    .dataframe tbody tr th:only-of-type {\n",
       "        vertical-align: middle;\n",
       "    }\n",
       "\n",
       "    .dataframe tbody tr th {\n",
       "        vertical-align: top;\n",
       "    }\n",
       "\n",
       "    .dataframe thead th {\n",
       "        text-align: right;\n",
       "    }\n",
       "</style>\n",
       "<table border=\"1\" class=\"dataframe\">\n",
       "  <thead>\n",
       "    <tr style=\"text-align: right;\">\n",
       "      <th></th>\n",
       "      <th>population</th>\n",
       "      <th>year</th>\n",
       "      <th>growth</th>\n",
       "      <th>growthRate</th>\n",
       "    </tr>\n",
       "  </thead>\n",
       "  <tbody>\n",
       "    <tr>\n",
       "      <th>0</th>\n",
       "      <td>1369370</td>\n",
       "      <td>1950</td>\n",
       "      <td>0</td>\n",
       "      <td>0.000000</td>\n",
       "    </tr>\n",
       "    <tr>\n",
       "      <th>1</th>\n",
       "      <td>1461150</td>\n",
       "      <td>1951</td>\n",
       "      <td>91780</td>\n",
       "      <td>0.067024</td>\n",
       "    </tr>\n",
       "    <tr>\n",
       "      <th>2</th>\n",
       "      <td>1535520</td>\n",
       "      <td>1952</td>\n",
       "      <td>74370</td>\n",
       "      <td>0.050898</td>\n",
       "    </tr>\n",
       "    <tr>\n",
       "      <th>3</th>\n",
       "      <td>1613450</td>\n",
       "      <td>1953</td>\n",
       "      <td>77930</td>\n",
       "      <td>0.050752</td>\n",
       "    </tr>\n",
       "    <tr>\n",
       "      <th>4</th>\n",
       "      <td>1695450</td>\n",
       "      <td>1954</td>\n",
       "      <td>82000</td>\n",
       "      <td>0.050823</td>\n",
       "    </tr>\n",
       "  </tbody>\n",
       "</table>\n",
       "</div>"
      ],
      "text/plain": [
       "   population  year  growth  growthRate\n",
       "0     1369370  1950       0    0.000000\n",
       "1     1461150  1951   91780    0.067024\n",
       "2     1535520  1952   74370    0.050898\n",
       "3     1613450  1953   77930    0.050752\n",
       "4     1695450  1954   82000    0.050823"
      ]
     },
     "execution_count": 3,
     "metadata": {},
     "output_type": "execute_result"
    }
   ],
   "source": [
    "population=pd.read_csv('dataset/delhi-population.csv')\n",
    "population.head()"
   ]
  },
  {
   "cell_type": "code",
   "execution_count": 4,
   "metadata": {},
   "outputs": [
    {
     "data": {
      "text/html": [
       "<div>\n",
       "<style scoped>\n",
       "    .dataframe tbody tr th:only-of-type {\n",
       "        vertical-align: middle;\n",
       "    }\n",
       "\n",
       "    .dataframe tbody tr th {\n",
       "        vertical-align: top;\n",
       "    }\n",
       "\n",
       "    .dataframe thead th {\n",
       "        text-align: right;\n",
       "    }\n",
       "</style>\n",
       "<table border=\"1\" class=\"dataframe\">\n",
       "  <thead>\n",
       "    <tr style=\"text-align: right;\">\n",
       "      <th></th>\n",
       "      <th>population</th>\n",
       "      <th>year</th>\n",
       "      <th>growth</th>\n",
       "      <th>growthRate</th>\n",
       "    </tr>\n",
       "  </thead>\n",
       "  <tbody>\n",
       "    <tr>\n",
       "      <th>50</th>\n",
       "      <td>15691900</td>\n",
       "      <td>2000</td>\n",
       "      <td>786400</td>\n",
       "      <td>0.052759</td>\n",
       "    </tr>\n",
       "    <tr>\n",
       "      <th>51</th>\n",
       "      <td>16413700</td>\n",
       "      <td>2001</td>\n",
       "      <td>721800</td>\n",
       "      <td>0.045998</td>\n",
       "    </tr>\n",
       "    <tr>\n",
       "      <th>52</th>\n",
       "      <td>16955600</td>\n",
       "      <td>2002</td>\n",
       "      <td>541900</td>\n",
       "      <td>0.033015</td>\n",
       "    </tr>\n",
       "    <tr>\n",
       "      <th>53</th>\n",
       "      <td>17515500</td>\n",
       "      <td>2003</td>\n",
       "      <td>559900</td>\n",
       "      <td>0.033022</td>\n",
       "    </tr>\n",
       "    <tr>\n",
       "      <th>54</th>\n",
       "      <td>18094700</td>\n",
       "      <td>2004</td>\n",
       "      <td>579200</td>\n",
       "      <td>0.033068</td>\n",
       "    </tr>\n",
       "  </tbody>\n",
       "</table>\n",
       "</div>"
      ],
      "text/plain": [
       "    population  year  growth  growthRate\n",
       "50    15691900  2000  786400    0.052759\n",
       "51    16413700  2001  721800    0.045998\n",
       "52    16955600  2002  541900    0.033015\n",
       "53    17515500  2003  559900    0.033022\n",
       "54    18094700  2004  579200    0.033068"
      ]
     },
     "execution_count": 4,
     "metadata": {},
     "output_type": "execute_result"
    }
   ],
   "source": [
    "# selected_population=population.loc[population['year']>2000:population['year']<2024]\n",
    "# selected_population.head()\n",
    "\n",
    "# population.dtypes\n",
    "\n",
    "selected_population = population[(population['year'] >= 2000) & (population['year'] <= 2024)]\n",
    "selected_population.head()"
   ]
  },
  {
   "cell_type": "code",
   "execution_count": 46,
   "metadata": {},
   "outputs": [
    {
     "data": {
      "text/plain": [
       "0.04397545952466537"
      ]
     },
     "execution_count": 46,
     "metadata": {},
     "output_type": "execute_result"
    }
   ],
   "source": [
    "(16413700-15691900)/16413700"
   ]
  },
  {
   "cell_type": "code",
   "execution_count": 5,
   "metadata": {},
   "outputs": [
    {
     "data": {
      "text/plain": [
       "population    0\n",
       "year          0\n",
       "growth        0\n",
       "growthRate    0\n",
       "dtype: int64"
      ]
     },
     "execution_count": 5,
     "metadata": {},
     "output_type": "execute_result"
    }
   ],
   "source": [
    "selected_population.isna().sum()"
   ]
  },
  {
   "cell_type": "code",
   "execution_count": 6,
   "metadata": {},
   "outputs": [
    {
     "data": {
      "image/png": "[encoded data removed]",
      "text/plain": [
       "<Figure size 640x480 with 1 Axes>"
      ]
     },
     "metadata": {},
     "output_type": "display_data"
    }
   ],
   "source": [
    "x=selected_population['year']\n",
    "y=selected_population['population']\n",
    "\n",
    "plt.plot(x,y)\n",
    "plt.show()"
   ]
  },
  {
   "cell_type": "code",
   "execution_count": 7,
   "metadata": {},
   "outputs": [
    {
     "name": "stderr",
     "output_type": "stream",
     "text": [
      "C:\\Users\\ariel\\AppData\\Local\\Temp\\ipykernel_7660\\1919355588.py:1: SettingWithCopyWarning: \n",
      "A value is trying to be set on a copy of a slice from a DataFrame.\n",
      "Try using .loc[row_indexer,col_indexer] = value instead\n",
      "\n",
      "See the caveats in the documentation: https://pandas.pydata.org/pandas-docs/stable/user_guide/indexing.html#returning-a-view-versus-a-copy\n",
      "  selected_population['year']=pd.to_datetime(selected_population['year'],format='%Y')\n"
     ]
    }
   ],
   "source": [
    "selected_population['year']=pd.to_datetime(selected_population['year'],format='%Y')"
   ]
  },
  {
   "cell_type": "code",
   "execution_count": 8,
   "metadata": {},
   "outputs": [
    {
     "data": {
      "text/plain": [
       "population             int64\n",
       "year          datetime64[ns]\n",
       "growth                 int64\n",
       "growthRate           float64\n",
       "dtype: object"
      ]
     },
     "execution_count": 8,
     "metadata": {},
     "output_type": "execute_result"
    }
   ],
   "source": [
    "selected_population.dtypes"
   ]
  },
  {
   "cell_type": "code",
   "execution_count": 9,
   "metadata": {},
   "outputs": [
    {
     "data": {
      "text/html": [
       "<div>\n",
       "<style scoped>\n",
       "    .dataframe tbody tr th:only-of-type {\n",
       "        vertical-align: middle;\n",
       "    }\n",
       "\n",
       "    .dataframe tbody tr th {\n",
       "        vertical-align: top;\n",
       "    }\n",
       "\n",
       "    .dataframe thead th {\n",
       "        text-align: right;\n",
       "    }\n",
       "</style>\n",
       "<table border=\"1\" class=\"dataframe\">\n",
       "  <thead>\n",
       "    <tr style=\"text-align: right;\">\n",
       "      <th></th>\n",
       "      <th>population</th>\n",
       "      <th>year</th>\n",
       "      <th>growth</th>\n",
       "      <th>growthRate</th>\n",
       "    </tr>\n",
       "  </thead>\n",
       "  <tbody>\n",
       "    <tr>\n",
       "      <th>50</th>\n",
       "      <td>15691900</td>\n",
       "      <td>2000-01-01</td>\n",
       "      <td>786400</td>\n",
       "      <td>0.052759</td>\n",
       "    </tr>\n",
       "    <tr>\n",
       "      <th>51</th>\n",
       "      <td>16413700</td>\n",
       "      <td>2001-01-01</td>\n",
       "      <td>721800</td>\n",
       "      <td>0.045998</td>\n",
       "    </tr>\n",
       "    <tr>\n",
       "      <th>52</th>\n",
       "      <td>16955600</td>\n",
       "      <td>2002-01-01</td>\n",
       "      <td>541900</td>\n",
       "      <td>0.033015</td>\n",
       "    </tr>\n",
       "    <tr>\n",
       "      <th>53</th>\n",
       "      <td>17515500</td>\n",
       "      <td>2003-01-01</td>\n",
       "      <td>559900</td>\n",
       "      <td>0.033022</td>\n",
       "    </tr>\n",
       "    <tr>\n",
       "      <th>54</th>\n",
       "      <td>18094700</td>\n",
       "      <td>2004-01-01</td>\n",
       "      <td>579200</td>\n",
       "      <td>0.033068</td>\n",
       "    </tr>\n",
       "  </tbody>\n",
       "</table>\n",
       "</div>"
      ],
      "text/plain": [
       "    population       year  growth  growthRate\n",
       "50    15691900 2000-01-01  786400    0.052759\n",
       "51    16413700 2001-01-01  721800    0.045998\n",
       "52    16955600 2002-01-01  541900    0.033015\n",
       "53    17515500 2003-01-01  559900    0.033022\n",
       "54    18094700 2004-01-01  579200    0.033068"
      ]
     },
     "execution_count": 9,
     "metadata": {},
     "output_type": "execute_result"
    }
   ],
   "source": [
    "selected_population.head()"
   ]
  },
  {
   "cell_type": "code",
   "execution_count": 10,
   "metadata": {},
   "outputs": [
    {
     "name": "stderr",
     "output_type": "stream",
     "text": [
      "C:\\Users\\ariel\\AppData\\Local\\Temp\\ipykernel_7660\\2151467112.py:5: FutureWarning: 'H' is deprecated and will be removed in a future version, please use 'h' instead.\n",
      "  hourly_population = selected_population['population'].resample('H').interpolate(method='linear')\n"
     ]
    },
    {
     "data": {
      "text/plain": [
       "year\n",
       "2000-01-01 00:00:00    1.569190e+07\n",
       "2000-01-01 01:00:00    1.569198e+07\n",
       "2000-01-01 02:00:00    1.569206e+07\n",
       "2000-01-01 03:00:00    1.569215e+07\n",
       "2000-01-01 04:00:00    1.569223e+07\n",
       "Freq: h, Name: population, dtype: float64"
      ]
     },
     "execution_count": 10,
     "metadata": {},
     "output_type": "execute_result"
    }
   ],
   "source": [
    "# Set the 'year' column as the index\n",
    "selected_population.set_index('year', inplace=True)\n",
    "\n",
    "# Resample the data to hourly frequency and interpolate\n",
    "hourly_population = selected_population['population'].resample('H').interpolate(method='linear')\n",
    "\n",
    "hourly_population.head()\n"
   ]
  },
  {
   "cell_type": "code",
   "execution_count": 11,
   "metadata": {},
   "outputs": [],
   "source": [
    "hourly_population.to_csv('dataset/hourly_population.csv')"
   ]
  }
 ],
 "metadata": {
  "kernelspec": {
   "display_name": "py310",
   "language": "python",
   "name": "python3"
  },
  "language_info": {
   "codemirror_mode": {
    "name": "ipython",
    "version": 3
   },
   "file_extension": ".py",
   "mimetype": "text/x-python",
   "name": "python",
   "nbconvert_exporter": "python",
   "pygments_lexer": "ipython3",
   "version": "3.10.14"
  }
 },
 "nbformat": 4,
 "nbformat_minor": 2
}
