{
 "cells": [
  {
   "cell_type": "code",
   "execution_count": 25,
   "metadata": {},
   "outputs": [],
   "source": [
    "import numpy as np\n",
    "import pandas as pd\n",
    "import matplotlib.pyplot as plt"
   ]
  },
  {
   "cell_type": "code",
   "execution_count": 26,
   "metadata": {},
   "outputs": [
    {
     "data": {
      "text/html": [
       "<div>\n",
       "<style scoped>\n",
       "    .dataframe tbody tr th:only-of-type {\n",
       "        vertical-align: middle;\n",
       "    }\n",
       "\n",
       "    .dataframe tbody tr th {\n",
       "        vertical-align: top;\n",
       "    }\n",
       "\n",
       "    .dataframe thead th {\n",
       "        text-align: right;\n",
       "    }\n",
       "</style>\n",
       "<table border=\"1\" class=\"dataframe\">\n",
       "  <thead>\n",
       "    <tr style=\"text-align: right;\">\n",
       "      <th></th>\n",
       "      <th>Unnamed: 0</th>\n",
       "      <th>timestamp</th>\n",
       "      <th>day_of_week</th>\n",
       "      <th>hour_of_day</th>\n",
       "      <th>is_weekend</th>\n",
       "      <th>temperature</th>\n",
       "      <th>is_holiday</th>\n",
       "      <th>solar_generation</th>\n",
       "      <th>load</th>\n",
       "      <th>compensation_method</th>\n",
       "    </tr>\n",
       "  </thead>\n",
       "  <tbody>\n",
       "    <tr>\n",
       "      <th>0</th>\n",
       "      <td>0</td>\n",
       "      <td>2023-01-01 00:00:00</td>\n",
       "      <td>6</td>\n",
       "      <td>0</td>\n",
       "      <td>1</td>\n",
       "      <td>17.483571</td>\n",
       "      <td>0</td>\n",
       "      <td>7.819507</td>\n",
       "      <td>18493</td>\n",
       "      <td>Normal Operation</td>\n",
       "    </tr>\n",
       "    <tr>\n",
       "      <th>1</th>\n",
       "      <td>1</td>\n",
       "      <td>2023-01-01 01:00:00</td>\n",
       "      <td>6</td>\n",
       "      <td>1</td>\n",
       "      <td>1</td>\n",
       "      <td>14.308678</td>\n",
       "      <td>0</td>\n",
       "      <td>0.886376</td>\n",
       "      <td>17090</td>\n",
       "      <td>Normal Operation</td>\n",
       "    </tr>\n",
       "    <tr>\n",
       "      <th>2</th>\n",
       "      <td>2</td>\n",
       "      <td>2023-01-01 02:00:00</td>\n",
       "      <td>6</td>\n",
       "      <td>2</td>\n",
       "      <td>1</td>\n",
       "      <td>18.238443</td>\n",
       "      <td>0</td>\n",
       "      <td>0.798470</td>\n",
       "      <td>16052</td>\n",
       "      <td>Normal Operation</td>\n",
       "    </tr>\n",
       "    <tr>\n",
       "      <th>3</th>\n",
       "      <td>3</td>\n",
       "      <td>2023-01-01 03:00:00</td>\n",
       "      <td>6</td>\n",
       "      <td>3</td>\n",
       "      <td>1</td>\n",
       "      <td>22.615149</td>\n",
       "      <td>0</td>\n",
       "      <td>3.067700</td>\n",
       "      <td>15356</td>\n",
       "      <td>Normal Operation</td>\n",
       "    </tr>\n",
       "    <tr>\n",
       "      <th>4</th>\n",
       "      <td>4</td>\n",
       "      <td>2023-01-01 04:00:00</td>\n",
       "      <td>6</td>\n",
       "      <td>4</td>\n",
       "      <td>1</td>\n",
       "      <td>13.829233</td>\n",
       "      <td>0</td>\n",
       "      <td>0.359479</td>\n",
       "      <td>14936</td>\n",
       "      <td>Normal Operation</td>\n",
       "    </tr>\n",
       "  </tbody>\n",
       "</table>\n",
       "</div>"
      ],
      "text/plain": [
       "   Unnamed: 0            timestamp  day_of_week  hour_of_day  is_weekend  \\\n",
       "0           0  2023-01-01 00:00:00            6            0           1   \n",
       "1           1  2023-01-01 01:00:00            6            1           1   \n",
       "2           2  2023-01-01 02:00:00            6            2           1   \n",
       "3           3  2023-01-01 03:00:00            6            3           1   \n",
       "4           4  2023-01-01 04:00:00            6            4           1   \n",
       "\n",
       "   temperature  is_holiday  solar_generation   load compensation_method  \n",
       "0    17.483571           0          7.819507  18493    Normal Operation  \n",
       "1    14.308678           0          0.886376  17090    Normal Operation  \n",
       "2    18.238443           0          0.798470  16052    Normal Operation  \n",
       "3    22.615149           0          3.067700  15356    Normal Operation  \n",
       "4    13.829233           0          0.359479  14936    Normal Operation  "
      ]
     },
     "execution_count": 26,
     "metadata": {},
     "output_type": "execute_result"
    }
   ],
   "source": [
    "dataset=pd.read_csv('dataset/24-hours Delhi Power Consumption dataset.csv')\n",
    "dataset.head()"
   ]
  },
  {
   "cell_type": "code",
   "execution_count": 27,
   "metadata": {},
   "outputs": [
    {
     "data": {
      "text/plain": [
       "Unnamed: 0             0\n",
       "timestamp              0\n",
       "day_of_week            0\n",
       "hour_of_day            0\n",
       "is_weekend             0\n",
       "temperature            0\n",
       "is_holiday             0\n",
       "solar_generation       0\n",
       "load                   0\n",
       "compensation_method    0\n",
       "dtype: int64"
      ]
     },
     "execution_count": 27,
     "metadata": {},
     "output_type": "execute_result"
    }
   ],
   "source": [
    "dataset.isna().sum()"
   ]
  },
  {
   "cell_type": "code",
   "execution_count": 28,
   "metadata": {},
   "outputs": [],
   "source": [
    "from sklearn.model_selection import train_test_split\n",
    "from sklearn.preprocessing import LabelEncoder"
   ]
  },
  {
   "cell_type": "code",
   "execution_count": 29,
   "metadata": {},
   "outputs": [],
   "source": [
    "X = dataset[['temperature', 'solar_generation', 'hour_of_day', 'load', 'is_holiday']]\n",
    "y=dataset['compensation_method']\n",
    "X_reg = dataset[['temperature', 'solar_generation', 'hour_of_day', 'is_holiday']]\n",
    "y_reg = dataset['load']\n",
    "le = LabelEncoder()\n",
    "y = le.fit_transform(y)"
   ]
  },
  {
   "cell_type": "code",
   "execution_count": 60,
   "metadata": {},
   "outputs": [
    {
     "name": "stdout",
     "output_type": "stream",
     "text": [
      "5\n"
     ]
    }
   ],
   "source": [
    "unique_values = np.unique(y)\n",
    "print(len(unique_values))"
   ]
  },
  {
   "cell_type": "code",
   "execution_count": 31,
   "metadata": {},
   "outputs": [],
   "source": [
    "X_train, X_test, y_train, y_test=train_test_split(X, y, test_size=0.3, random_state=42)\n",
    "X_reg_train, X_reg_test, y_reg_train, y_reg_test = train_test_split(X_reg, y_reg, test_size=0.3, random_state=42)"
   ]
  },
  {
   "cell_type": "code",
   "execution_count": 39,
   "metadata": {},
   "outputs": [
    {
     "name": "stdout",
     "output_type": "stream",
     "text": [
      "temperature         0\n",
      "solar_generation    0\n",
      "hour_of_day         0\n",
      "load                0\n",
      "is_holiday          0\n",
      "dtype: int64\n",
      "0\n",
      "2622\n",
      "temperature         float64\n",
      "solar_generation    float64\n",
      "hour_of_day           int64\n",
      "load                  int64\n",
      "is_holiday            int64\n",
      "dtype: object\n"
     ]
    }
   ],
   "source": [
    "# print(X_test.isnull().sum())\n",
    "print(X_train.isnull().sum())\n",
    "print(pd.Series(y_train).isnull().sum())\n",
    "print(len(X_test))\n",
    "print(X_test.dtypes)"
   ]
  },
  {
   "cell_type": "code",
   "execution_count": 33,
   "metadata": {},
   "outputs": [
    {
     "name": "stdout",
     "output_type": "stream",
     "text": [
      "Epoch 1/50\n",
      "153/153 [==============================] - 1s 5ms/step - loss: 315681792.0000 - mae: 17444.4062 - val_loss: 261894400.0000 - val_mae: 15819.2344\n",
      "Epoch 2/50\n",
      "153/153 [==============================] - 1s 4ms/step - loss: 170016064.0000 - mae: 11898.3379 - val_loss: 106862584.0000 - val_mae: 8994.7295\n",
      "Epoch 3/50\n",
      "153/153 [==============================] - 1s 3ms/step - loss: 109969576.0000 - mae: 9157.6348 - val_loss: 81291040.0000 - val_mae: 7802.9258\n",
      "Epoch 4/50\n",
      "153/153 [==============================] - 1s 4ms/step - loss: 85332608.0000 - mae: 7921.8203 - val_loss: 55122880.0000 - val_mae: 6285.9009\n",
      "Epoch 5/50\n",
      "153/153 [==============================] - 1s 4ms/step - loss: 63457248.0000 - mae: 6593.9897 - val_loss: 36564664.0000 - val_mae: 4811.1050\n",
      "Epoch 6/50\n",
      "153/153 [==============================] - 1s 3ms/step - loss: 53064444.0000 - mae: 5893.7905 - val_loss: 31692648.0000 - val_mae: 4242.4136\n",
      "Epoch 7/50\n",
      "153/153 [==============================] - 1s 4ms/step - loss: 50445592.0000 - mae: 5718.3408 - val_loss: 28107780.0000 - val_mae: 3985.3662\n",
      "Epoch 8/50\n",
      "153/153 [==============================] - 1s 3ms/step - loss: 49414516.0000 - mae: 5604.7173 - val_loss: 28024980.0000 - val_mae: 3955.4890\n",
      "Epoch 9/50\n",
      "153/153 [==============================] - 1s 3ms/step - loss: 49582004.0000 - mae: 5633.9155 - val_loss: 27803406.0000 - val_mae: 3935.5635\n",
      "Epoch 10/50\n",
      "153/153 [==============================] - 1s 4ms/step - loss: 47718576.0000 - mae: 5514.7520 - val_loss: 27754964.0000 - val_mae: 3934.0715\n",
      "Epoch 11/50\n",
      "153/153 [==============================] - 1s 3ms/step - loss: 48719252.0000 - mae: 5613.5215 - val_loss: 27393776.0000 - val_mae: 3921.8577\n",
      "Epoch 12/50\n",
      "153/153 [==============================] - 1s 4ms/step - loss: 49735412.0000 - mae: 5656.6958 - val_loss: 27792580.0000 - val_mae: 3938.6218\n",
      "Epoch 13/50\n",
      "153/153 [==============================] - 1s 3ms/step - loss: 48293380.0000 - mae: 5558.0854 - val_loss: 26379152.0000 - val_mae: 3884.7563\n",
      "Epoch 14/50\n",
      "153/153 [==============================] - 1s 4ms/step - loss: 48216400.0000 - mae: 5565.6973 - val_loss: 27332528.0000 - val_mae: 3921.8577\n",
      "Epoch 15/50\n",
      "153/153 [==============================] - 1s 4ms/step - loss: 48602316.0000 - mae: 5626.7446 - val_loss: 26699754.0000 - val_mae: 3896.7229\n",
      "Epoch 16/50\n",
      "153/153 [==============================] - 1s 3ms/step - loss: 48985596.0000 - mae: 5644.0967 - val_loss: 26866868.0000 - val_mae: 3896.7903\n",
      "Epoch 17/50\n",
      "153/153 [==============================] - 1s 3ms/step - loss: 48323256.0000 - mae: 5577.5801 - val_loss: 27080890.0000 - val_mae: 3911.2490\n",
      "Epoch 18/50\n",
      "153/153 [==============================] - 1s 3ms/step - loss: 48291092.0000 - mae: 5580.9199 - val_loss: 26711164.0000 - val_mae: 3890.0710\n",
      "Epoch 19/50\n",
      "153/153 [==============================] - 1s 4ms/step - loss: 48096536.0000 - mae: 5570.1670 - val_loss: 27645692.0000 - val_mae: 3946.7031\n",
      "Epoch 20/50\n",
      "153/153 [==============================] - 1s 4ms/step - loss: 47655960.0000 - mae: 5508.7583 - val_loss: 26773356.0000 - val_mae: 3887.3242\n",
      "Epoch 21/50\n",
      "153/153 [==============================] - 1s 3ms/step - loss: 47567508.0000 - mae: 5520.7515 - val_loss: 26084794.0000 - val_mae: 3855.9202\n",
      "Epoch 22/50\n",
      "153/153 [==============================] - 1s 3ms/step - loss: 47643608.0000 - mae: 5569.0698 - val_loss: 26195124.0000 - val_mae: 3865.0872\n",
      "Epoch 23/50\n",
      "153/153 [==============================] - 1s 3ms/step - loss: 46734664.0000 - mae: 5473.5063 - val_loss: 26895942.0000 - val_mae: 3900.8193\n",
      "Epoch 24/50\n",
      "153/153 [==============================] - 1s 3ms/step - loss: 47064684.0000 - mae: 5508.2573 - val_loss: 25763498.0000 - val_mae: 3840.0068\n",
      "Epoch 25/50\n",
      "153/153 [==============================] - 1s 3ms/step - loss: 47442744.0000 - mae: 5553.1255 - val_loss: 25248676.0000 - val_mae: 3816.5510\n",
      "Epoch 26/50\n",
      "153/153 [==============================] - 1s 3ms/step - loss: 46760892.0000 - mae: 5454.8867 - val_loss: 25970608.0000 - val_mae: 3840.6226\n",
      "Epoch 27/50\n",
      "153/153 [==============================] - 1s 3ms/step - loss: 46915944.0000 - mae: 5501.9561 - val_loss: 25897222.0000 - val_mae: 3839.7229\n",
      "Epoch 28/50\n",
      "153/153 [==============================] - 1s 3ms/step - loss: 46567888.0000 - mae: 5441.1475 - val_loss: 26162418.0000 - val_mae: 3845.5635\n",
      "Epoch 29/50\n",
      "153/153 [==============================] - 1s 3ms/step - loss: 46249664.0000 - mae: 5459.4590 - val_loss: 25099820.0000 - val_mae: 3796.0571\n",
      "Epoch 30/50\n",
      "153/153 [==============================] - 1s 3ms/step - loss: 45924076.0000 - mae: 5458.7388 - val_loss: 26182582.0000 - val_mae: 3854.2266\n",
      "Epoch 31/50\n",
      "153/153 [==============================] - 1s 3ms/step - loss: 45099728.0000 - mae: 5407.4395 - val_loss: 25532358.0000 - val_mae: 3813.2886\n",
      "Epoch 32/50\n",
      "153/153 [==============================] - 1s 3ms/step - loss: 44880284.0000 - mae: 5378.1421 - val_loss: 24340660.0000 - val_mae: 3764.8569\n",
      "Epoch 33/50\n",
      "153/153 [==============================] - 1s 3ms/step - loss: 46303080.0000 - mae: 5441.0605 - val_loss: 25647700.0000 - val_mae: 3819.5254\n",
      "Epoch 34/50\n",
      "153/153 [==============================] - 1s 3ms/step - loss: 44621384.0000 - mae: 5365.8940 - val_loss: 24904500.0000 - val_mae: 3776.5298\n",
      "Epoch 35/50\n",
      "153/153 [==============================] - 1s 3ms/step - loss: 46097104.0000 - mae: 5453.0117 - val_loss: 24996592.0000 - val_mae: 3785.9229\n",
      "Epoch 36/50\n",
      "153/153 [==============================] - 1s 3ms/step - loss: 45906528.0000 - mae: 5476.7798 - val_loss: 23430404.0000 - val_mae: 3718.2454\n",
      "Epoch 37/50\n",
      "153/153 [==============================] - 1s 3ms/step - loss: 45905644.0000 - mae: 5422.5825 - val_loss: 25023144.0000 - val_mae: 3780.2817\n",
      "Epoch 38/50\n",
      "153/153 [==============================] - 1s 3ms/step - loss: 45111428.0000 - mae: 5429.6191 - val_loss: 25005496.0000 - val_mae: 3775.6370\n",
      "Epoch 39/50\n",
      "153/153 [==============================] - 1s 3ms/step - loss: 44864924.0000 - mae: 5410.0015 - val_loss: 24435568.0000 - val_mae: 3745.2722\n",
      "Epoch 40/50\n",
      "153/153 [==============================] - 1s 3ms/step - loss: 46617080.0000 - mae: 5499.8823 - val_loss: 24230148.0000 - val_mae: 3730.3511\n",
      "Epoch 41/50\n",
      "153/153 [==============================] - 1s 3ms/step - loss: 47297192.0000 - mae: 5515.1802 - val_loss: 25409802.0000 - val_mae: 3804.3286\n",
      "Epoch 42/50\n",
      "153/153 [==============================] - 1s 3ms/step - loss: 45758552.0000 - mae: 5417.9702 - val_loss: 24604716.0000 - val_mae: 3745.6692\n",
      "Epoch 43/50\n",
      "153/153 [==============================] - 1s 3ms/step - loss: 45199492.0000 - mae: 5417.5884 - val_loss: 24040660.0000 - val_mae: 3709.0244\n",
      "Epoch 44/50\n",
      "153/153 [==============================] - 1s 3ms/step - loss: 45177220.0000 - mae: 5373.4907 - val_loss: 23842118.0000 - val_mae: 3692.0613\n",
      "Epoch 45/50\n",
      "153/153 [==============================] - 1s 3ms/step - loss: 43407872.0000 - mae: 5267.9561 - val_loss: 23903208.0000 - val_mae: 3692.3728\n",
      "Epoch 46/50\n",
      "153/153 [==============================] - 1s 3ms/step - loss: 44104684.0000 - mae: 5326.7222 - val_loss: 23694624.0000 - val_mae: 3676.1799\n",
      "Epoch 47/50\n",
      "153/153 [==============================] - 1s 3ms/step - loss: 44116640.0000 - mae: 5326.4312 - val_loss: 23147752.0000 - val_mae: 3646.1375\n",
      "Epoch 48/50\n",
      "153/153 [==============================] - 1s 3ms/step - loss: 44786664.0000 - mae: 5349.3501 - val_loss: 23760254.0000 - val_mae: 3671.9805\n",
      "Epoch 49/50\n",
      "153/153 [==============================] - 1s 3ms/step - loss: 44192476.0000 - mae: 5295.8433 - val_loss: 23278386.0000 - val_mae: 3642.1418\n",
      "Epoch 50/50\n",
      "153/153 [==============================] - 1s 3ms/step - loss: 44596212.0000 - mae: 5340.1167 - val_loss: 22751556.0000 - val_mae: 3619.4390\n"
     ]
    }
   ],
   "source": [
    "import tensorflow.keras as keras\n",
    "\n",
    "model=keras.models.Sequential()\n",
    "model.add(keras.layers.Dense(64, activation='relu', input_shape=(X_reg.shape[1],)))\n",
    "model.add(keras.layers.Dropout(0.5))\n",
    "model.add(keras.layers.Dense(32, activation='relu'))\n",
    "model.add(keras.layers.Dropout(0.5))\n",
    "model.add(keras.layers.Dense(1, activation='linear'))\n",
    "\n",
    "model.compile(optimizer='adam', loss='mean_squared_error', metrics=['mae'])\n",
    "\n",
    "history = model.fit(X_reg_train, y_reg_train, epochs=50, batch_size=32, validation_split=0.2)"
   ]
  },
  {
   "cell_type": "code",
   "execution_count": 53,
   "metadata": {},
   "outputs": [
    {
     "name": "stdout",
     "output_type": "stream",
     "text": [
      "Epoch 1/50\n",
      "153/153 [==============================] - 1s 5ms/step - loss: 2119.1191 - accuracy: 0.2850 - val_loss: 22.1329 - val_accuracy: 0.5209\n",
      "Epoch 2/50\n",
      "153/153 [==============================] - 1s 4ms/step - loss: 250.3231 - accuracy: 0.3745 - val_loss: 1.5271 - val_accuracy: 0.5209\n",
      "Epoch 3/50\n",
      "153/153 [==============================] - 1s 4ms/step - loss: 61.0932 - accuracy: 0.4538 - val_loss: 1.4628 - val_accuracy: 0.5209\n",
      "Epoch 4/50\n",
      "153/153 [==============================] - 1s 4ms/step - loss: 30.5310 - accuracy: 0.4834 - val_loss: 1.4056 - val_accuracy: 0.5209\n",
      "Epoch 5/50\n",
      "153/153 [==============================] - 1s 4ms/step - loss: 16.1300 - accuracy: 0.4875 - val_loss: 1.3612 - val_accuracy: 0.5209\n",
      "Epoch 6/50\n",
      "153/153 [==============================] - 1s 4ms/step - loss: 8.6636 - accuracy: 0.4963 - val_loss: 1.3292 - val_accuracy: 0.5209\n",
      "Epoch 7/50\n",
      "153/153 [==============================] - 1s 4ms/step - loss: 6.3771 - accuracy: 0.4992 - val_loss: 1.3056 - val_accuracy: 0.5209\n",
      "Epoch 8/50\n",
      "153/153 [==============================] - 1s 5ms/step - loss: 5.9494 - accuracy: 0.5010 - val_loss: 1.2887 - val_accuracy: 0.5209\n",
      "Epoch 9/50\n",
      "153/153 [==============================] - 1s 4ms/step - loss: 4.1945 - accuracy: 0.5008 - val_loss: 1.2766 - val_accuracy: 0.5209\n",
      "Epoch 10/50\n",
      "153/153 [==============================] - 1s 4ms/step - loss: 4.2331 - accuracy: 0.5055 - val_loss: 1.2678 - val_accuracy: 0.5209\n",
      "Epoch 11/50\n",
      "153/153 [==============================] - 1s 4ms/step - loss: 3.1346 - accuracy: 0.5055 - val_loss: 1.2610 - val_accuracy: 0.5209\n",
      "Epoch 12/50\n",
      "153/153 [==============================] - 1s 4ms/step - loss: 3.5139 - accuracy: 0.5025 - val_loss: 1.2556 - val_accuracy: 0.5209\n",
      "Epoch 13/50\n",
      "153/153 [==============================] - 1s 4ms/step - loss: 2.4119 - accuracy: 0.5051 - val_loss: 1.2514 - val_accuracy: 0.5209\n",
      "Epoch 14/50\n",
      "153/153 [==============================] - 1s 4ms/step - loss: 2.2234 - accuracy: 0.5045 - val_loss: 1.2480 - val_accuracy: 0.5209\n",
      "Epoch 15/50\n",
      "153/153 [==============================] - 1s 4ms/step - loss: 2.0392 - accuracy: 0.5049 - val_loss: 1.2450 - val_accuracy: 0.5209\n",
      "Epoch 16/50\n",
      "153/153 [==============================] - 1s 4ms/step - loss: 2.3278 - accuracy: 0.5057 - val_loss: 1.2424 - val_accuracy: 0.5209\n",
      "Epoch 17/50\n",
      "153/153 [==============================] - 1s 4ms/step - loss: 1.8717 - accuracy: 0.5063 - val_loss: 1.2401 - val_accuracy: 0.5209\n",
      "Epoch 18/50\n",
      "153/153 [==============================] - 1s 4ms/step - loss: 1.8838 - accuracy: 0.5065 - val_loss: 1.2384 - val_accuracy: 0.5209\n",
      "Epoch 19/50\n",
      "153/153 [==============================] - 1s 4ms/step - loss: 1.9343 - accuracy: 0.5061 - val_loss: 1.2368 - val_accuracy: 0.5209\n",
      "Epoch 20/50\n",
      "153/153 [==============================] - 1s 4ms/step - loss: 1.5115 - accuracy: 0.5059 - val_loss: 1.2352 - val_accuracy: 0.5209\n",
      "Epoch 21/50\n",
      "153/153 [==============================] - 1s 4ms/step - loss: 1.5717 - accuracy: 0.5063 - val_loss: 1.2341 - val_accuracy: 0.5209\n",
      "Epoch 22/50\n",
      "153/153 [==============================] - 1s 4ms/step - loss: 1.5523 - accuracy: 0.5057 - val_loss: 1.2327 - val_accuracy: 0.5209\n",
      "Epoch 23/50\n",
      "153/153 [==============================] - 1s 4ms/step - loss: 1.3701 - accuracy: 0.5070 - val_loss: 1.2319 - val_accuracy: 0.5209\n",
      "Epoch 24/50\n",
      "153/153 [==============================] - 1s 4ms/step - loss: 1.7097 - accuracy: 0.5065 - val_loss: 1.2309 - val_accuracy: 0.5209\n",
      "Epoch 25/50\n",
      "153/153 [==============================] - 1s 4ms/step - loss: 1.5506 - accuracy: 0.5072 - val_loss: 1.2302 - val_accuracy: 0.5209\n",
      "Epoch 26/50\n",
      "153/153 [==============================] - 1s 4ms/step - loss: 1.2526 - accuracy: 0.5063 - val_loss: 1.2294 - val_accuracy: 0.5209\n",
      "Epoch 27/50\n",
      "153/153 [==============================] - 1s 4ms/step - loss: 1.3891 - accuracy: 0.5072 - val_loss: 1.2288 - val_accuracy: 0.5209\n",
      "Epoch 28/50\n",
      "153/153 [==============================] - 1s 4ms/step - loss: 1.3899 - accuracy: 0.5074 - val_loss: 1.2282 - val_accuracy: 0.5209\n",
      "Epoch 29/50\n",
      "153/153 [==============================] - 1s 4ms/step - loss: 1.4389 - accuracy: 0.5070 - val_loss: 1.2277 - val_accuracy: 0.5209\n",
      "Epoch 30/50\n",
      "153/153 [==============================] - 1s 4ms/step - loss: 1.5062 - accuracy: 0.5070 - val_loss: 1.2272 - val_accuracy: 0.5209\n",
      "Epoch 31/50\n",
      "153/153 [==============================] - 1s 4ms/step - loss: 1.2514 - accuracy: 0.5063 - val_loss: 1.2270 - val_accuracy: 0.5209\n",
      "Epoch 32/50\n",
      "153/153 [==============================] - 1s 4ms/step - loss: 1.2597 - accuracy: 0.5074 - val_loss: 1.2266 - val_accuracy: 0.5209\n",
      "Epoch 33/50\n",
      "153/153 [==============================] - 1s 4ms/step - loss: 1.2719 - accuracy: 0.5074 - val_loss: 1.2264 - val_accuracy: 0.5209\n",
      "Epoch 34/50\n",
      "153/153 [==============================] - 1s 6ms/step - loss: 1.5452 - accuracy: 0.5057 - val_loss: 1.2261 - val_accuracy: 0.5209\n",
      "Epoch 35/50\n",
      "153/153 [==============================] - 1s 5ms/step - loss: 1.2842 - accuracy: 0.5072 - val_loss: 1.2258 - val_accuracy: 0.5209\n",
      "Epoch 36/50\n",
      "153/153 [==============================] - 1s 5ms/step - loss: 1.3405 - accuracy: 0.5076 - val_loss: 1.2256 - val_accuracy: 0.5209\n",
      "Epoch 37/50\n",
      "153/153 [==============================] - 1s 5ms/step - loss: 1.3353 - accuracy: 0.5065 - val_loss: 1.2255 - val_accuracy: 0.5209\n",
      "Epoch 38/50\n",
      "153/153 [==============================] - 1s 5ms/step - loss: 1.2250 - accuracy: 0.5074 - val_loss: 1.2255 - val_accuracy: 0.5209\n",
      "Epoch 39/50\n",
      "153/153 [==============================] - 1s 5ms/step - loss: 1.2293 - accuracy: 0.5074 - val_loss: 1.2252 - val_accuracy: 0.5209\n",
      "Epoch 40/50\n",
      "153/153 [==============================] - 1s 5ms/step - loss: 1.2984 - accuracy: 0.5078 - val_loss: 1.2251 - val_accuracy: 0.5209\n",
      "Epoch 41/50\n",
      "153/153 [==============================] - 1s 5ms/step - loss: 1.3553 - accuracy: 0.5072 - val_loss: 1.2250 - val_accuracy: 0.5209\n",
      "Epoch 42/50\n",
      "153/153 [==============================] - 1s 5ms/step - loss: 1.2864 - accuracy: 0.5072 - val_loss: 1.2249 - val_accuracy: 0.5209\n",
      "Epoch 43/50\n",
      "153/153 [==============================] - 1s 5ms/step - loss: 1.2557 - accuracy: 0.5072 - val_loss: 1.2248 - val_accuracy: 0.5209\n",
      "Epoch 44/50\n",
      "153/153 [==============================] - 1s 5ms/step - loss: 1.3193 - accuracy: 0.5070 - val_loss: 1.2247 - val_accuracy: 0.5209\n",
      "Epoch 45/50\n",
      "153/153 [==============================] - 1s 5ms/step - loss: 1.2405 - accuracy: 0.5074 - val_loss: 1.2246 - val_accuracy: 0.5209\n",
      "Epoch 46/50\n",
      "153/153 [==============================] - 1s 5ms/step - loss: 1.2539 - accuracy: 0.5070 - val_loss: 1.2246 - val_accuracy: 0.5209\n",
      "Epoch 47/50\n",
      "153/153 [==============================] - 1s 5ms/step - loss: 1.2419 - accuracy: 0.5074 - val_loss: 1.2246 - val_accuracy: 0.5209\n",
      "Epoch 48/50\n",
      "153/153 [==============================] - 1s 5ms/step - loss: 1.2465 - accuracy: 0.5076 - val_loss: 1.2245 - val_accuracy: 0.5209\n",
      "Epoch 49/50\n",
      "153/153 [==============================] - 1s 5ms/step - loss: 1.3114 - accuracy: 0.5074 - val_loss: 1.2244 - val_accuracy: 0.5209\n",
      "Epoch 50/50\n",
      "153/153 [==============================] - 1s 5ms/step - loss: 1.2675 - accuracy: 0.5076 - val_loss: 1.2245 - val_accuracy: 0.5209\n"
     ]
    }
   ],
   "source": [
    "model_cls=keras.models.Sequential()\n",
    "model_cls.add(keras.layers.Dense(64, activation='relu', input_shape=(X.shape[1],)))\n",
    "model_cls.add(keras.layers.Dropout(0.5))\n",
    "model_cls.add(keras.layers.Dense(32, activation='relu'))\n",
    "model_cls.add(keras.layers.Dropout(0.5))\n",
    "model_cls.add(keras.layers.Dense(5, activation='softmax'))\n",
    "\n",
    "model_cls.compile(optimizer='adam', loss='sparse_categorical_crossentropy', metrics=['accuracy'])\n",
    "\n",
    "history_cls = model_cls.fit(X_train, y_train, epochs=50, batch_size=32, validation_split=0.2)"
   ]
  },
  {
   "cell_type": "code",
   "execution_count": 54,
   "metadata": {},
   "outputs": [
    {
     "data": {
      "image/png": "[encoded data removed]",
      "text/plain": [
       "<Figure size 640x480 with 1 Axes>"
      ]
     },
     "metadata": {},
     "output_type": "display_data"
    }
   ],
   "source": [
    "plt.plot(history.history['loss'], label='Training Loss')\n",
    "plt.plot(history.history['val_loss'], label='Validation Loss')\n",
    "plt.legend()\n",
    "plt.show()"
   ]
  },
  {
   "cell_type": "code",
   "execution_count": 56,
   "metadata": {},
   "outputs": [
    {
     "name": "stdout",
     "output_type": "stream",
     "text": [
      "82/82 [==============================] - 0s 2ms/step\n"
     ]
    },
    {
     "ename": "ValueError",
     "evalue": "Classification metrics can't handle a mix of multiclass and continuous-multioutput targets",
     "output_type": "error",
     "traceback": [
      "\u001b[1;31m---------------------------------------------------------------------------\u001b[0m",
      "\u001b[1;31mValueError\u001b[0m                                Traceback (most recent call last)",
      "Cell \u001b[1;32mIn[56], line 5\u001b[0m\n\u001b[0;32m      3\u001b[0m y_pred \u001b[38;5;241m=\u001b[39m model_cls\u001b[38;5;241m.\u001b[39mpredict(X_test)\n\u001b[0;32m      4\u001b[0m \u001b[38;5;66;03m# print(np.isnan(y_pred).sum())\u001b[39;00m\n\u001b[1;32m----> 5\u001b[0m class_accuracy \u001b[38;5;241m=\u001b[39m \u001b[43maccuracy_score\u001b[49m\u001b[43m(\u001b[49m\u001b[43my_test\u001b[49m\u001b[43m,\u001b[49m\u001b[43m \u001b[49m\u001b[43my_pred\u001b[49m\u001b[43m)\u001b[49m\n\u001b[0;32m      6\u001b[0m \u001b[38;5;28mprint\u001b[39m(\u001b[38;5;124mf\u001b[39m\u001b[38;5;124m\"\u001b[39m\u001b[38;5;124mClassification Model Accuracy: \u001b[39m\u001b[38;5;132;01m{\u001b[39;00mclass_accuracy\u001b[38;5;132;01m:\u001b[39;00m\u001b[38;5;124m.2f\u001b[39m\u001b[38;5;132;01m}\u001b[39;00m\u001b[38;5;124m\"\u001b[39m)\n\u001b[0;32m      7\u001b[0m \u001b[38;5;28mprint\u001b[39m(classification_report(y_test, y_pred, target_names\u001b[38;5;241m=\u001b[39mle\u001b[38;5;241m.\u001b[39mclasses_))\n",
      "File \u001b[1;32mc:\\Users\\ariel\\anaconda3\\envs\\py310\\lib\\site-packages\\sklearn\\utils\\_param_validation.py:213\u001b[0m, in \u001b[0;36mvalidate_params.<locals>.decorator.<locals>.wrapper\u001b[1;34m(*args, **kwargs)\u001b[0m\n\u001b[0;32m    207\u001b[0m \u001b[38;5;28;01mtry\u001b[39;00m:\n\u001b[0;32m    208\u001b[0m     \u001b[38;5;28;01mwith\u001b[39;00m config_context(\n\u001b[0;32m    209\u001b[0m         skip_parameter_validation\u001b[38;5;241m=\u001b[39m(\n\u001b[0;32m    210\u001b[0m             prefer_skip_nested_validation \u001b[38;5;129;01mor\u001b[39;00m global_skip_validation\n\u001b[0;32m    211\u001b[0m         )\n\u001b[0;32m    212\u001b[0m     ):\n\u001b[1;32m--> 213\u001b[0m         \u001b[38;5;28;01mreturn\u001b[39;00m func(\u001b[38;5;241m*\u001b[39margs, \u001b[38;5;241m*\u001b[39m\u001b[38;5;241m*\u001b[39mkwargs)\n\u001b[0;32m    214\u001b[0m \u001b[38;5;28;01mexcept\u001b[39;00m InvalidParameterError \u001b[38;5;28;01mas\u001b[39;00m e:\n\u001b[0;32m    215\u001b[0m     \u001b[38;5;66;03m# When the function is just a wrapper around an estimator, we allow\u001b[39;00m\n\u001b[0;32m    216\u001b[0m     \u001b[38;5;66;03m# the function to delegate validation to the estimator, but we replace\u001b[39;00m\n\u001b[0;32m    217\u001b[0m     \u001b[38;5;66;03m# the name of the estimator by the name of the function in the error\u001b[39;00m\n\u001b[0;32m    218\u001b[0m     \u001b[38;5;66;03m# message to avoid confusion.\u001b[39;00m\n\u001b[0;32m    219\u001b[0m     msg \u001b[38;5;241m=\u001b[39m re\u001b[38;5;241m.\u001b[39msub(\n\u001b[0;32m    220\u001b[0m         \u001b[38;5;124mr\u001b[39m\u001b[38;5;124m\"\u001b[39m\u001b[38;5;124mparameter of \u001b[39m\u001b[38;5;124m\\\u001b[39m\u001b[38;5;124mw+ must be\u001b[39m\u001b[38;5;124m\"\u001b[39m,\n\u001b[0;32m    221\u001b[0m         \u001b[38;5;124mf\u001b[39m\u001b[38;5;124m\"\u001b[39m\u001b[38;5;124mparameter of \u001b[39m\u001b[38;5;132;01m{\u001b[39;00mfunc\u001b[38;5;241m.\u001b[39m\u001b[38;5;18m__qualname__\u001b[39m\u001b[38;5;132;01m}\u001b[39;00m\u001b[38;5;124m must be\u001b[39m\u001b[38;5;124m\"\u001b[39m,\n\u001b[0;32m    222\u001b[0m         \u001b[38;5;28mstr\u001b[39m(e),\n\u001b[0;32m    223\u001b[0m     )\n",
      "File \u001b[1;32mc:\\Users\\ariel\\anaconda3\\envs\\py310\\lib\\site-packages\\sklearn\\metrics\\_classification.py:213\u001b[0m, in \u001b[0;36maccuracy_score\u001b[1;34m(y_true, y_pred, normalize, sample_weight)\u001b[0m\n\u001b[0;32m    147\u001b[0m \u001b[38;5;250m\u001b[39m\u001b[38;5;124;03m\"\"\"Accuracy classification score.\u001b[39;00m\n\u001b[0;32m    148\u001b[0m \n\u001b[0;32m    149\u001b[0m \u001b[38;5;124;03mIn multilabel classification, this function computes subset accuracy:\u001b[39;00m\n\u001b[1;32m   (...)\u001b[0m\n\u001b[0;32m    209\u001b[0m \u001b[38;5;124;03m0.5\u001b[39;00m\n\u001b[0;32m    210\u001b[0m \u001b[38;5;124;03m\"\"\"\u001b[39;00m\n\u001b[0;32m    212\u001b[0m \u001b[38;5;66;03m# Compute accuracy for each possible representation\u001b[39;00m\n\u001b[1;32m--> 213\u001b[0m y_type, y_true, y_pred \u001b[38;5;241m=\u001b[39m \u001b[43m_check_targets\u001b[49m\u001b[43m(\u001b[49m\u001b[43my_true\u001b[49m\u001b[43m,\u001b[49m\u001b[43m \u001b[49m\u001b[43my_pred\u001b[49m\u001b[43m)\u001b[49m\n\u001b[0;32m    214\u001b[0m check_consistent_length(y_true, y_pred, sample_weight)\n\u001b[0;32m    215\u001b[0m \u001b[38;5;28;01mif\u001b[39;00m y_type\u001b[38;5;241m.\u001b[39mstartswith(\u001b[38;5;124m\"\u001b[39m\u001b[38;5;124mmultilabel\u001b[39m\u001b[38;5;124m\"\u001b[39m):\n",
      "File \u001b[1;32mc:\\Users\\ariel\\anaconda3\\envs\\py310\\lib\\site-packages\\sklearn\\metrics\\_classification.py:94\u001b[0m, in \u001b[0;36m_check_targets\u001b[1;34m(y_true, y_pred)\u001b[0m\n\u001b[0;32m     91\u001b[0m     y_type \u001b[38;5;241m=\u001b[39m {\u001b[38;5;124m\"\u001b[39m\u001b[38;5;124mmulticlass\u001b[39m\u001b[38;5;124m\"\u001b[39m}\n\u001b[0;32m     93\u001b[0m \u001b[38;5;28;01mif\u001b[39;00m \u001b[38;5;28mlen\u001b[39m(y_type) \u001b[38;5;241m>\u001b[39m \u001b[38;5;241m1\u001b[39m:\n\u001b[1;32m---> 94\u001b[0m     \u001b[38;5;28;01mraise\u001b[39;00m \u001b[38;5;167;01mValueError\u001b[39;00m(\n\u001b[0;32m     95\u001b[0m         \u001b[38;5;124m\"\u001b[39m\u001b[38;5;124mClassification metrics can\u001b[39m\u001b[38;5;124m'\u001b[39m\u001b[38;5;124mt handle a mix of \u001b[39m\u001b[38;5;132;01m{0}\u001b[39;00m\u001b[38;5;124m and \u001b[39m\u001b[38;5;132;01m{1}\u001b[39;00m\u001b[38;5;124m targets\u001b[39m\u001b[38;5;124m\"\u001b[39m\u001b[38;5;241m.\u001b[39mformat(\n\u001b[0;32m     96\u001b[0m             type_true, type_pred\n\u001b[0;32m     97\u001b[0m         )\n\u001b[0;32m     98\u001b[0m     )\n\u001b[0;32m    100\u001b[0m \u001b[38;5;66;03m# We can't have more than one value on y_type => The set is no more needed\u001b[39;00m\n\u001b[0;32m    101\u001b[0m y_type \u001b[38;5;241m=\u001b[39m y_type\u001b[38;5;241m.\u001b[39mpop()\n",
      "\u001b[1;31mValueError\u001b[0m: Classification metrics can't handle a mix of multiclass and continuous-multioutput targets"
     ]
    }
   ],
   "source": [
    "from sklearn.metrics import accuracy_score, classification_report, root_mean_squared_error, confusion_matrix\n",
    "\n",
    "y_pred = model_cls.predict(X_test)\n",
    "# print(np.isnan(y_pred).sum())\n",
    "class_accuracy = accuracy_score(y_test, y_pred)\n",
    "print(f\"Classification Model Accuracy: {class_accuracy:.2f}\")\n",
    "print(classification_report(y_test, y_pred, target_names=le.classes_))\n",
    "\n",
    "# Make predictions on the test set for regression (peak supply)\n",
    "y_reg_pred = model.predict(X_reg_test)\n",
    "reg_mse = root_mean_squared_error(y_reg_test, y_reg_pred)\n",
    "print(f\"Regression Model Mean Squared Error: {reg_mse:.2f}\")\n",
    "print(confusion_matrix(y_test, y_pred))"
   ]
  },
  {
   "cell_type": "code",
   "execution_count": 48,
   "metadata": {},
   "outputs": [
    {
     "name": "stdout",
     "output_type": "stream",
     "text": [
      "1/1 [==============================] - 0s 68ms/step\n",
      "[[nan]]\n"
     ]
    }
   ],
   "source": [
    "import tensorflow as tf\n",
    "exple = dataset.iloc[0][['temperature', 'solar_generation', 'hour_of_day', 'is_holiday','load']].values.reshape(1, -1)\n",
    "exple_tensor = tf.convert_to_tensor(exple, dtype=tf.float64)\n",
    "exple_pred = model_cls.predict(exple_tensor)\n",
    "print(exple_pred)\n",
    "# exple_pred = model.predict(exple)\n",
    "# print(exple_pred)"
   ]
  },
  {
   "cell_type": "code",
   "execution_count": 49,
   "metadata": {},
   "outputs": [
    {
     "name": "stdout",
     "output_type": "stream",
     "text": [
      "Model: \"sequential_7\"\n",
      "_________________________________________________________________\n",
      " Layer (type)                Output Shape              Param #   \n",
      "=================================================================\n",
      " dense_21 (Dense)            (None, 64)                384       \n",
      "                                                                 \n",
      " dropout_14 (Dropout)        (None, 64)                0         \n",
      "                                                                 \n",
      " dense_22 (Dense)            (None, 32)                2080      \n",
      "                                                                 \n",
      " dropout_15 (Dropout)        (None, 32)                0         \n",
      "                                                                 \n",
      " dense_23 (Dense)            (None, 1)                 33        \n",
      "                                                                 \n",
      "=================================================================\n",
      "Total params: 2,497\n",
      "Trainable params: 2,497\n",
      "Non-trainable params: 0\n",
      "_________________________________________________________________\n"
     ]
    }
   ],
   "source": [
    "model_cls.summary()"
   ]
  }
 ],
 "metadata": {
  "kernelspec": {
   "display_name": "py310",
   "language": "python",
   "name": "python3"
  },
  "language_info": {
   "codemirror_mode": {
    "name": "ipython",
    "version": 3
   },
   "file_extension": ".py",
   "mimetype": "text/x-python",
   "name": "python",
   "nbconvert_exporter": "python",
   "pygments_lexer": "ipython3",
   "version": "3.10.14"
  }
 },
 "nbformat": 4,
 "nbformat_minor": 2
}
